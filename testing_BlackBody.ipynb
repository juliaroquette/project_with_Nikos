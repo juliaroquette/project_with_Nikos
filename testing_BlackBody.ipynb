{
 "cells": [
  {
   "cell_type": "markdown",
   "metadata": {},
   "source": [
    "**@juliaroquette 7 Feb 2024**: Testing a few blackbody implementations. "
   ]
  },
  {
   "cell_type": "code",
   "execution_count": 1,
   "metadata": {},
   "outputs": [
    {
     "name": "stderr",
     "output_type": "stream",
     "text": [
      "/Users/juliaroquette/anaconda3/envs/NEMESIS/lib/python3.10/site-packages/scipy/__init__.py:155: UserWarning: A NumPy version >=1.18.5 and <1.25.0 is required for this version of SciPy (detected version 1.26.3\n",
      "  warnings.warn(f\"A NumPy version >={np_minversion} and <{np_maxversion}\"\n"
     ]
    }
   ],
   "source": [
    "import astropy.units as u\n",
    "import astropy.constants as c\n",
    "import numpy as np\n",
    "import matplotlib.pyplot as plt\n",
    "# for comparison     https://docs.astropy.org/en/stable/modeling/physical_models.html\n",
    "from astropy.modeling.models import BlackBody\n",
    "# for comparison https://synphot.readthedocs.io/en/latest/synphot/spectrum.html#synphot-planck-law\n",
    "from synphot import SourceSpectrum\n",
    "import synphot.units as us\n",
    "from synphot.models import BlackBodyNorm1D\n"
   ]
  },
  {
   "cell_type": "code",
   "execution_count": 2,
   "metadata": {},
   "outputs": [
    {
     "data": {
      "text/plain": [
       "'1.3.post0'"
      ]
     },
     "execution_count": 2,
     "metadata": {},
     "output_type": "execute_result"
    }
   ],
   "source": [
    "import synphot\n",
    "synphot.__version__"
   ]
  },
  {
   "cell_type": "code",
   "execution_count": 3,
   "metadata": {},
   "outputs": [
    {
     "name": "stdout",
     "output_type": "stream",
     "text": [
      "  Name   = Planck constant\n",
      "  Value  = 6.62607015e-34\n",
      "  Uncertainty  = 0.0\n",
      "  Unit  = J s\n",
      "  Reference = CODATA 2018\n",
      "in cgs:  6.62607015e-27 cm2 g / s\n"
     ]
    }
   ],
   "source": [
    "print(c.h)\n",
    "print('in cgs: ', c.h.to(u.cm**2 * u.g / u.s))"
   ]
  },
  {
   "cell_type": "code",
   "execution_count": 4,
   "metadata": {},
   "outputs": [
    {
     "name": "stdout",
     "output_type": "stream",
     "text": [
      "  Name   = Speed of light in vacuum\n",
      "  Value  = 299792458.0\n",
      "  Uncertainty  = 0.0\n",
      "  Unit  = m / s\n",
      "  Reference = CODATA 2018\n",
      "in cgs:  29979245800.0 cm / s\n"
     ]
    }
   ],
   "source": [
    "print(c.c)\n",
    "print('in cgs: ', c.c.to(u.cm / u.s))"
   ]
  },
  {
   "cell_type": "code",
   "execution_count": 5,
   "metadata": {},
   "outputs": [
    {
     "name": "stdout",
     "output_type": "stream",
     "text": [
      "  Name   = Boltzmann constant\n",
      "  Value  = 1.380649e-23\n",
      "  Uncertainty  = 0.0\n",
      "  Unit  = J / K\n",
      "  Reference = CODATA 2018\n",
      "in cgs:  1.380649e-16 erg / K\n"
     ]
    }
   ],
   "source": [
    "print(c.k_B)\n",
    "print('in cgs: ', c.k_B.to(u.erg / u.K))"
   ]
  },
  {
   "cell_type": "code",
   "execution_count": 6,
   "metadata": {},
   "outputs": [],
   "source": [
    "Teff = 10000 * u.K"
   ]
  },
  {
   "cell_type": "code",
   "execution_count": 7,
   "metadata": {},
   "outputs": [
    {
     "name": "stdout",
     "output_type": "stream",
     "text": [
      "in cgs:  0.01 cm\n"
     ]
    }
   ],
   "source": [
    "wl = 1e-2 * u.cm\n",
    "print('in cgs: ', wl.to(u.cm))"
   ]
  },
  {
   "cell_type": "code",
   "execution_count": 13,
   "metadata": {},
   "outputs": [],
   "source": [
    "def myBlackBody(wl, Teff):\n",
    "    \"\"\"\n",
    "    Equation (7)\n",
    "    \"\"\"\n",
    "    assert wl.decompose().unit == u.m\n",
    "    assert Teff.unit == u.K\n",
    "    B = (2. * c.h * c.c**2 / wl**5) * 1 / (np.exp(c.h * c.c / (wl * c.k_B * Teff)) - 1)\n",
    "    return B.to(u.W/u.m**2/u.m)"
   ]
  },
  {
   "cell_type": "code",
   "execution_count": null,
   "metadata": {},
   "outputs": [],
   "source": []
  },
  {
   "cell_type": "code",
   "execution_count": 9,
   "metadata": {},
   "outputs": [],
   "source": [
    "def astropyBlackBody(wl, Teff):\n",
    "    \"\"\"\n",
    "    https://docs.astropy.org/en/stable/modeling/physical_models.html\n",
    "    The scaler will define the units of the output\n",
    "    \"\"\"\n",
    "    scale = 1.*u.erg/u.s/u.cm**2/u.AA/u.sr\n",
    "    bb = BlackBody(temperature=Teff, scale=scale)\n",
    "    return bb(wl).to(u.erg/u.s/u.cm**2/u.um/u.sr)*u.sr #needs this transformation to match the units"
   ]
  },
  {
   "cell_type": "code",
   "execution_count": 10,
   "metadata": {},
   "outputs": [],
   "source": [
    "def synphotBlackBody(wl, Teff):\n",
    "    \"\"\"\n",
    "    https://synphot.readthedocs.io/en/latest/synphot/spectrum.html#synphot-planck-law\n",
    "    \"\"\"\n",
    "    FLAM = 1.*u.erg/u.s/u.cm**2/u.AA\n",
    "    sp = SourceSpectrum(BlackBodyNorm1D, temperature=Teff)\n",
    "    d = 1e3*u.pc\n",
    "    R_sun = c.R_sun\n",
    "    omega = (np.pi * (R_sun/d)**2).decompose()\n",
    "    return FLAM*us.convert_flux(wl, sp(wl), us.FLAM).value/omega"
   ]
  },
  {
   "cell_type": "code",
   "execution_count": 11,
   "metadata": {},
   "outputs": [
    {
     "name": "stdout",
     "output_type": "stream",
     "text": [
      "my version: 821875.3801549723 W / m3\n",
      "my version: 821.8753801549723 erg / (s um cm2)\n"
     ]
    }
   ],
   "source": [
    "print('my version:', myBlackBody(wl, Teff))\n",
    "print('my version:', myBlackBody(wl, Teff).to(u.erg/u.s/u.cm**2/u.um))"
   ]
  },
  {
   "cell_type": "code",
   "execution_count": 12,
   "metadata": {},
   "outputs": [
    {
     "name": "stdout",
     "output_type": "stream",
     "text": [
      "Astropy 821.8753801549691 erg / (s um cm2)\n"
     ]
    }
   ],
   "source": [
    "print('Astropy',astropyBlackBody(wl, Teff))"
   ]
  },
  {
   "cell_type": "code",
   "execution_count": 36,
   "metadata": {},
   "outputs": [
    {
     "name": "stdout",
     "output_type": "stream",
     "text": [
      "synphot 821.8753801549689 erg / (s um cm2)\n"
     ]
    }
   ],
   "source": [
    "print('synphot',synphotBlackBody(wl, Teff).to(u.erg/u.s/u.cm**2/u.um))"
   ]
  },
  {
   "cell_type": "code",
   "execution_count": 37,
   "metadata": {},
   "outputs": [],
   "source": [
    "def equation8(wl, Teff, BlackBody):\n",
    "    assert wl.unit == u.um\n",
    "    assert Teff.unit == u.K\n",
    "    bb_result = BlackBody(wl, Teff).to(u.erg/u.s/u.cm**2/u.um)\n",
    "    return np.log10((wl * np.pi * bb_result).value)"
   ]
  },
  {
   "cell_type": "code",
   "execution_count": 38,
   "metadata": {},
   "outputs": [
    {
     "name": "stdout",
     "output_type": "stream",
     "text": [
      "Mine 5.411955843745104\n",
      "Astropy 5.411955843745102\n",
      "Synphot 5.411955843745102\n"
     ]
    }
   ],
   "source": [
    "Teff = 10000 * u.K\n",
    "bb_dict = {'Mine': myBlackBody, 'Astropy': astropyBlackBody, 'Synphot': synphotBlackBody}\n",
    "for bb in bb_dict.keys():\n",
    "    print(bb, equation8(wl.to(u.um), Teff, bb_dict[bb]))"
   ]
  },
  {
   "cell_type": "markdown",
   "metadata": {},
   "source": [
    "This online calculator https://www.spectralcalc.com/blackbody_calculator/blackbody.php\n",
    "returns 0.821881 W/m2/sr/µm for a 10,000K Black-Body at 100$\\mu$m= 1e-2 cm.\n"
   ]
  },
  {
   "cell_type": "code",
   "execution_count": 43,
   "metadata": {},
   "outputs": [
    {
     "name": "stdout",
     "output_type": "stream",
     "text": [
      "821.881 erg / (s sr um cm2)\n"
     ]
    }
   ],
   "source": [
    "test = 0.821881*u.W/u.m**2/u.um/u.sr\n",
    "print(test.to(u.erg/u.s/u.cm**2/u.um/u.sr))"
   ]
  },
  {
   "cell_type": "code",
   "execution_count": null,
   "metadata": {},
   "outputs": [],
   "source": []
  }
 ],
 "metadata": {
  "kernelspec": {
   "display_name": "NEMESIS",
   "language": "python",
   "name": "python3"
  },
  "language_info": {
   "codemirror_mode": {
    "name": "ipython",
    "version": 3
   },
   "file_extension": ".py",
   "mimetype": "text/x-python",
   "name": "python",
   "nbconvert_exporter": "python",
   "pygments_lexer": "ipython3",
   "version": "3.10.13"
  }
 },
 "nbformat": 4,
 "nbformat_minor": 2
}
