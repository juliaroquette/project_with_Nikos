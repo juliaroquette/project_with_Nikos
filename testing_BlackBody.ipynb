{
 "cells": [
  {
   "cell_type": "markdown",
   "metadata": {},
   "source": [
    "**@juliaroquette 7 Feb 2024**: Testing a few blackbody implementations. \n",
    "\n",
    "# Comparing a few implementations\n",
    "\n",
    "Here I am comparing my own implementation of equation (7) with the Black Body models available in two different python packaged affiliated to astropy. "
   ]
  },
  {
   "cell_type": "code",
   "execution_count": 1,
   "metadata": {},
   "outputs": [
    {
     "name": "stderr",
     "output_type": "stream",
     "text": [
      "/Users/juliaroquette/anaconda3/envs/NEMESIS/lib/python3.10/site-packages/scipy/__init__.py:155: UserWarning: A NumPy version >=1.18.5 and <1.25.0 is required for this version of SciPy (detected version 1.26.3\n",
      "  warnings.warn(f\"A NumPy version >={np_minversion} and <{np_maxversion}\"\n"
     ]
    }
   ],
   "source": [
    "import astropy.units as u\n",
    "import astropy.constants as q\n",
    "import numpy as np\n",
    "import matplotlib.pyplot as plt\n",
    "# for comparison     https://docs.astropy.org/en/stable/modeling/physical_models.html\n",
    "from astropy.modeling.models import BlackBody\n",
    "# for comparison https://synphot.readthedocs.io/en/latest/synphot/spectrum.html#synphot-planck-law\n",
    "from synphot import SourceSpectrum\n",
    "import synphot.units as us\n",
    "from synphot.models import BlackBodyNorm1D\n"
   ]
  },
  {
   "cell_type": "code",
   "execution_count": 2,
   "metadata": {},
   "outputs": [
    {
     "name": "stdout",
     "output_type": "stream",
     "text": [
      "  Name   = Planck constant\n",
      "  Value  = 6.62607015e-34\n",
      "  Uncertainty  = 0.0\n",
      "  Unit  = J s\n",
      "  Reference = CODATA 2018\n",
      "in cgs:  6.62607015e-27 cm2 g / s\n"
     ]
    }
   ],
   "source": [
    "print(q.h)\n",
    "print('in cgs: ', q.h.to(u.cm**2 * u.g / u.s))"
   ]
  },
  {
   "cell_type": "code",
   "execution_count": 3,
   "metadata": {},
   "outputs": [
    {
     "name": "stdout",
     "output_type": "stream",
     "text": [
      "  Name   = Speed of light in vacuum\n",
      "  Value  = 299792458.0\n",
      "  Uncertainty  = 0.0\n",
      "  Unit  = m / s\n",
      "  Reference = CODATA 2018\n",
      "in cgs:  29979245800.0 cm / s\n"
     ]
    }
   ],
   "source": [
    "print(q.c)\n",
    "print('in cgs: ', q.c.to(u.cm / u.s))"
   ]
  },
  {
   "cell_type": "code",
   "execution_count": 4,
   "metadata": {},
   "outputs": [
    {
     "name": "stdout",
     "output_type": "stream",
     "text": [
      "  Name   = Boltzmann constant\n",
      "  Value  = 1.380649e-23\n",
      "  Uncertainty  = 0.0\n",
      "  Unit  = J / K\n",
      "  Reference = CODATA 2018\n",
      "in cgs:  1.380649e-16 erg / K\n"
     ]
    }
   ],
   "source": [
    "print(q.k_B)\n",
    "print('in cgs: ', q.k_B.to(u.erg / u.K))"
   ]
  },
  {
   "cell_type": "code",
   "execution_count": 7,
   "metadata": {},
   "outputs": [],
   "source": [
    "Teff = 10000 * u.K"
   ]
  },
  {
   "cell_type": "code",
   "execution_count": 8,
   "metadata": {},
   "outputs": [
    {
     "name": "stdout",
     "output_type": "stream",
     "text": [
      "in cgs:  0.01 cm\n"
     ]
    }
   ],
   "source": [
    "wl = 1e-2 * u.cm\n",
    "print('in cgs: ', wl.to(u.cm))"
   ]
  },
  {
   "cell_type": "code",
   "execution_count": 9,
   "metadata": {},
   "outputs": [],
   "source": [
    "def myBlackBody(wl, Teff):\n",
    "    \"\"\"\n",
    "    Equation (7)\n",
    "    \"\"\"\n",
    "    assert wl.decompose().unit == u.m\n",
    "    assert Teff.unit == u.K\n",
    "    B = (2. * q.h * q.c**2 / wl**5) * 1 / (np.exp(q.h * q.c / (wl * q.k_B * Teff)) - 1)\n",
    "    return B.to(u.W/u.m**2/u.m)"
   ]
  },
  {
   "cell_type": "code",
   "execution_count": 10,
   "metadata": {},
   "outputs": [],
   "source": [
    "def astropyBlackBody(wl, Teff):\n",
    "    \"\"\"\n",
    "    https://docs.astropy.org/en/stable/modeling/physical_models.html\n",
    "    The scaler will define the units of the output\n",
    "    \"\"\"\n",
    "    scale = 1.*u.erg/u.s/u.cm**2/u.AA/u.sr\n",
    "    bb = BlackBody(temperature=Teff, scale=scale)\n",
    "    return bb(wl).to(u.erg/u.s/u.cm**2/u.um/u.sr)*u.sr #needs this transformation to match the units"
   ]
  },
  {
   "cell_type": "code",
   "execution_count": 11,
   "metadata": {},
   "outputs": [],
   "source": [
    "def synphotBlackBody(wl, Teff):\n",
    "    \"\"\"\n",
    "    https://synphot.readthedocs.io/en/latest/synphot/spectrum.html#synphot-planck-law\n",
    "    \"\"\"\n",
    "    FLAM = 1.*u.erg/u.s/u.cm**2/u.AA\n",
    "    sp = SourceSpectrum(BlackBodyNorm1D, temperature=Teff)\n",
    "    d = 1e3*u.pc\n",
    "    R_sun = q.R_sun\n",
    "    omega = (np.pi * (R_sun/d)**2).decompose()\n",
    "    return FLAM*us.convert_flux(wl, sp(wl), us.FLAM).value/omega"
   ]
  },
  {
   "cell_type": "code",
   "execution_count": 12,
   "metadata": {},
   "outputs": [
    {
     "name": "stdout",
     "output_type": "stream",
     "text": [
      "6082104402130.212 m2\n"
     ]
    }
   ],
   "source": [
    "omega = (np.pi * (q.R_sun/500)**2).decompose()\n",
    "print(omega)\n"
   ]
  },
  {
   "cell_type": "code",
   "execution_count": 13,
   "metadata": {},
   "outputs": [
    {
     "name": "stdout",
     "output_type": "stream",
     "text": [
      "my version: 821875.3801549723 W / m3\n",
      "my version: 821.8753801549723 erg / (s um cm2)\n"
     ]
    }
   ],
   "source": [
    "print('my version:', myBlackBody(wl, Teff))\n",
    "print('my version:', myBlackBody(wl, Teff).to(u.erg/u.s/u.cm**2/u.um))"
   ]
  },
  {
   "cell_type": "code",
   "execution_count": 14,
   "metadata": {},
   "outputs": [
    {
     "name": "stdout",
     "output_type": "stream",
     "text": [
      "Astropy 821.8753801549691 erg / (s um cm2)\n"
     ]
    }
   ],
   "source": [
    "print('Astropy',astropyBlackBody(wl, Teff))"
   ]
  },
  {
   "cell_type": "code",
   "execution_count": 15,
   "metadata": {},
   "outputs": [
    {
     "name": "stdout",
     "output_type": "stream",
     "text": [
      "synphot 821.8753801549689 erg / (s um cm2)\n"
     ]
    }
   ],
   "source": [
    "print('synphot',synphotBlackBody(wl, Teff).to(u.erg/u.s/u.cm**2/u.um))"
   ]
  },
  {
   "cell_type": "code",
   "execution_count": 16,
   "metadata": {},
   "outputs": [],
   "source": [
    "def equation8(wl, Teff, BlackBody):\n",
    "    assert wl.unit == u.um\n",
    "    assert Teff.unit == u.K\n",
    "    bb_result = BlackBody(wl, Teff).to(u.erg/u.s/u.cm**2/u.um)\n",
    "    return np.log10((wl * np.pi * bb_result).value)"
   ]
  },
  {
   "cell_type": "code",
   "execution_count": 17,
   "metadata": {},
   "outputs": [
    {
     "name": "stdout",
     "output_type": "stream",
     "text": [
      "Mine 5.411955843745104\n",
      "Astropy 5.411955843745102\n",
      "Synphot 5.411955843745102\n"
     ]
    }
   ],
   "source": [
    "bb_dict = {'Mine': myBlackBody, 'Astropy': astropyBlackBody, 'Synphot': synphotBlackBody}\n",
    "for bb in bb_dict.keys():\n",
    "    print(bb, equation8(wl.to(u.um), Teff, bb_dict[bb]))"
   ]
  },
  {
   "cell_type": "markdown",
   "metadata": {},
   "source": [
    "## testing against some non-python implementation"
   ]
  },
  {
   "cell_type": "markdown",
   "metadata": {},
   "source": [
    "This online calculator https://www.spectralcalc.com/blackbody_calculator/blackbody.php\n",
    "returns 0.821881 W/m2/sr/µm for a 10,000K Black-Body at 100$\\mu$m= 1e-2 cm.\n"
   ]
  },
  {
   "cell_type": "code",
   "execution_count": 18,
   "metadata": {},
   "outputs": [
    {
     "name": "stdout",
     "output_type": "stream",
     "text": [
      "821.881 erg / (s sr um cm2)\n"
     ]
    }
   ],
   "source": [
    "test = 0.821881*u.W/u.m**2/u.um/u.sr\n",
    "print(test.to(u.erg/u.s/u.cm**2/u.um/u.sr))"
   ]
  },
  {
   "cell_type": "markdown",
   "metadata": {},
   "source": [
    "# Make a plot"
   ]
  },
  {
   "cell_type": "code",
   "execution_count": 19,
   "metadata": {},
   "outputs": [],
   "source": [
    "# wl_array = np.linspace(0.1, 1000, 10000)*u.um\n",
    "wl_array = np.linspace(0.1, 1000, 10000)*u.um"
   ]
  },
  {
   "cell_type": "code",
   "execution_count": 20,
   "metadata": {},
   "outputs": [
    {
     "data": {
      "text/latex": [
       "$[1 \\times 10^{-5},~2 \\times 10^{-5},~3 \\times 10^{-5},~\\dots,~0.09998,~0.09999,~0.1] \\; \\mathrm{cm}$"
      ],
      "text/plain": [
       "<Quantity [1.000e-05, 2.000e-05, 3.000e-05, ..., 9.998e-02, 9.999e-02,\n",
       "           1.000e-01] cm>"
      ]
     },
     "execution_count": 20,
     "metadata": {},
     "output_type": "execute_result"
    }
   ],
   "source": [
    "wl_array.to(u.cm)"
   ]
  },
  {
   "cell_type": "code",
   "execution_count": 23,
   "metadata": {},
   "outputs": [
    {
     "data": {
      "text/plain": [
       "Text(0, 0.5, '$\\\\log_{10}[erg/s/cm^2]$')"
      ]
     },
     "execution_count": 23,
     "metadata": {},
     "output_type": "execute_result"
    },
    {
     "data": {
      "image/png": "[encoded data removed]",
      "text/plain": [
       "<Figure size 640x480 with 1 Axes>"
      ]
     },
     "metadata": {},
     "output_type": "display_data"
    }
   ],
   "source": [
    "plt.plot(wl_array,#.to(u.um), \n",
    "         10**equation8(wl_array, Teff, myBlackBody))\n",
    "plt.xlabel('$\\lambda$ [$\\mu$m]')\n",
    "plt.ylabel('$\\log_{10}[erg/s/cm^2]$')"
   ]
  },
  {
   "cell_type": "code",
   "execution_count": 22,
   "metadata": {},
   "outputs": [
    {
     "data": {
      "text/plain": [
       "Text(0, 0.5, '$\\\\log_{10}[erg/s/cm^2]$')"
      ]
     },
     "execution_count": 22,
     "metadata": {},
     "output_type": "execute_result"
    },
    {
     "data": {
      "image/png": "[encoded data removed]",
      "text/plain": [
       "<Figure size 640x480 with 1 Axes>"
      ]
     },
     "metadata": {},
     "output_type": "display_data"
    }
   ],
   "source": [
    "plt.plot(np.log10(wl_array.to(u.um).value), equation8(wl_array, Teff, myBlackBody))\n",
    "plt.xlabel('$\\lambda$ [$\\mu$m]')\n",
    "plt.ylabel('$\\log_{10}[erg/s/cm^2]$')"
   ]
  },
  {
   "cell_type": "markdown",
   "metadata": {},
   "source": [
    "# Getting conversion constants:\n",
    "\n",
    "In `myBlackBody` I am using `astropy.units` to make sure that the units are converted correctly. I suppose that in `Julia` you will need the conversion values to debug:"
   ]
  },
  {
   "cell_type": "code",
   "execution_count": 84,
   "metadata": {},
   "outputs": [
    {
     "data": {
      "text/latex": [
       "$0.01 \\; \\mathrm{cm}$"
      ],
      "text/plain": [
       "<Quantity 0.01 cm>"
      ]
     },
     "execution_count": 84,
     "metadata": {},
     "output_type": "execute_result"
    }
   ],
   "source": [
    "wl_ = 1e-2 # u.cm\n",
    "wl.to(u.cm)"
   ]
  },
  {
   "cell_type": "code",
   "execution_count": 85,
   "metadata": {},
   "outputs": [
    {
     "data": {
      "text/latex": [
       "$2500 \\; \\mathrm{K}$"
      ],
      "text/plain": [
       "<Quantity 2500. K>"
      ]
     },
     "execution_count": 85,
     "metadata": {},
     "output_type": "execute_result"
    }
   ],
   "source": [
    "Teff_ = 10000 # u.K\n",
    "Teff.to(u.K)"
   ]
  },
  {
   "cell_type": "code",
   "execution_count": 86,
   "metadata": {},
   "outputs": [
    {
     "data": {
      "text/latex": [
       "$6.6260701 \\times 10^{-27} \\; \\mathrm{erg\\,s}$"
      ],
      "text/plain": [
       "<Quantity 6.62607015e-27 erg s>"
      ]
     },
     "execution_count": 86,
     "metadata": {},
     "output_type": "execute_result"
    }
   ],
   "source": [
    "h = 6.62607015e-27 # erg s\n",
    "q.h.to(u.erg*u.s)"
   ]
  },
  {
   "cell_type": "code",
   "execution_count": 87,
   "metadata": {},
   "outputs": [
    {
     "data": {
      "text/latex": [
       "$2.9979246 \\times 10^{10} \\; \\mathrm{\\frac{cm}{s}}$"
      ],
      "text/plain": [
       "<Quantity 2.99792458e+10 cm / s>"
      ]
     },
     "execution_count": 87,
     "metadata": {},
     "output_type": "execute_result"
    }
   ],
   "source": [
    "c = 29979245800.0 # cm / s\n",
    "q.c.to(u.cm/u.s)"
   ]
  },
  {
   "cell_type": "code",
   "execution_count": 88,
   "metadata": {},
   "outputs": [
    {
     "data": {
      "text/latex": [
       "$1.380649 \\times 10^{-16} \\; \\mathrm{\\frac{erg}{K}}$"
      ],
      "text/plain": [
       "<Quantity 1.380649e-16 erg / K>"
      ]
     },
     "execution_count": 88,
     "metadata": {},
     "output_type": "execute_result"
    }
   ],
   "source": [
    "k_B = 1.380649e-16 # erg / K\n",
    "q.k_B.to(u.erg/u.K)"
   ]
  },
  {
   "cell_type": "code",
   "execution_count": 89,
   "metadata": {},
   "outputs": [
    {
     "name": "stdout",
     "output_type": "stream",
     "text": [
      "8218753.801549724\n"
     ]
    }
   ],
   "source": [
    "B = (2. * h * c**2 / wl_**5) * 1 / (np.exp(h * c / (wl_ * k_B * Teff_)) - 1)\n",
    "print(B)"
   ]
  },
  {
   "cell_type": "code",
   "execution_count": 90,
   "metadata": {},
   "outputs": [
    {
     "data": {
      "text/latex": [
       "$2010559.8 \\; \\mathrm{\\frac{erg}{s\\,cm^{3}}}$"
      ],
      "text/plain": [
       "<Quantity 2010559.82160616 erg / (s cm3)>"
      ]
     },
     "execution_count": 90,
     "metadata": {},
     "output_type": "execute_result"
    }
   ],
   "source": [
    "(2. * q.h.to(u.erg* u.s) * q.c.to(u.cm/u.s)**2 / wl.to(u.cm)**5) * 1 / (np.exp(q.h.to(u.cm**2 * u.g / u.s) * q.c.to(u.cm / u.s) / (wl.to(u.cm) * q.k_B.to(u.erg / u.K) * Teff.to(u.K))) - 1)"
   ]
  },
  {
   "cell_type": "markdown",
   "metadata": {},
   "source": [
    "For `equation8` we now have a $\\pi\\lambda$ multiplication terms, and the $\\log_{10}$ operation."
   ]
  },
  {
   "cell_type": "code",
   "execution_count": 94,
   "metadata": {},
   "outputs": [
    {
     "data": {
      "text/latex": [
       "$63163.6 \\; \\mathrm{\\frac{erg}{s\\,cm^{2}}}$"
      ],
      "text/plain": [
       "<Quantity 63163.59965161 erg / (s cm2)>"
      ]
     },
     "execution_count": 94,
     "metadata": {},
     "output_type": "execute_result"
    }
   ],
   "source": [
    "(2. * q.h.to(u.erg* u.s) * q.c.to(u.cm/u.s)**2 / wl.to(u.cm)**5) * 1 / (np.exp(q.h.to(u.cm**2 * u.g / u.s) * q.c.to(u.cm / u.s) / (wl.to(u.cm) * q.k_B.to(u.erg / u.K) * Teff.to(u.K))) - 1)*np.pi * wl.to(u.cm)"
   ]
  },
  {
   "cell_type": "code",
   "execution_count": 93,
   "metadata": {},
   "outputs": [
    {
     "data": {
      "text/plain": [
       "4.800466872195709"
      ]
     },
     "execution_count": 93,
     "metadata": {},
     "output_type": "execute_result"
    }
   ],
   "source": [
    "np.log10(((2. * q.h.to(u.erg* u.s) * q.c.to(u.cm/u.s)**2 / wl.to(u.cm)**5) * 1 / (np.exp(q.h.to(u.cm**2 * u.g / u.s) * q.c.to(u.cm / u.s) / (wl.to(u.cm) * q.k_B.to(u.erg / u.K) * Teff.to(u.K))) - 1)*np.pi * wl.to(u.cm)).value)"
   ]
  },
  {
   "cell_type": "markdown",
   "metadata": {},
   "source": [
    "# The proof: \n",
    "\n",
    "Plotting data and model. Note that we need a multiplicative constant together with the Planck curve in order to account for distance and reddening. "
   ]
  },
  {
   "cell_type": "code",
   "execution_count": 40,
   "metadata": {},
   "outputs": [],
   "source": [
    "nu_Fnu = np.array([1.61e-11, 2.18e-11, 3.98e-11, 4.51e-11, 6.60e-11, 8.08e-11, \n",
    "          1.44e-10, 1.61e-10, 1.05e-10, 3.48e-11, 3.08e-11, 1.57e-11, \n",
    "          1.42e-11, 8.59e-12, 3.71e-12])\n",
    "lamb = np.array([0.503575, 0.546757, 0.582239, 0.635735, 0.761996,\n",
    "                 0.782865, 1.235, 1.662, 2.159, 3.3526, 3.537841, \n",
    "                 4.478049, 4.6028, 5.696178, 7.79784])"
   ]
  },
  {
   "cell_type": "code",
   "execution_count": 52,
   "metadata": {},
   "outputs": [
    {
     "data": {
      "text/plain": [
       "Text(0, 0.5, '$\\\\log_{10}[erg/s/cm^2]$')"
      ]
     },
     "execution_count": 52,
     "metadata": {},
     "output_type": "execute_result"
    },
    {
     "data": {
      "image/png": "[encoded data removed]",
      "text/plain": [
       "<Figure size 640x480 with 1 Axes>"
      ]
     },
     "metadata": {},
     "output_type": "display_data"
    }
   ],
   "source": [
    "norm=1e11\n",
    "Teff = 3000*u.K\n",
    "plt.plot(np.log10(wl_array.to(u.um).value), equation8(wl_array, Teff, myBlackBody))\n",
    "plt.plot(np.log10(lamb), np.log10(norm*nu_Fnu*dist_term) , 'ro')\n",
    "plt.xlabel('$\\lambda$ [$\\mu$m]')\n",
    "plt.ylabel('$\\log_{10}[erg/s/cm^2]$')"
   ]
  },
  {
   "cell_type": "code",
   "execution_count": 54,
   "metadata": {},
   "outputs": [
    {
     "data": {
      "text/plain": [
       "Text(0, 0.5, '$\\\\log_{10}[erg/s/cm^2]$')"
      ]
     },
     "execution_count": 54,
     "metadata": {},
     "output_type": "execute_result"
    },
    {
     "data": {
      "image/png": "[encoded data removed]",
      "text/plain": [
       "<Figure size 640x480 with 1 Axes>"
      ]
     },
     "metadata": {},
     "output_type": "display_data"
    }
   ],
   "source": [
    "Teff = 10000*u.K\n",
    "plt.plot(np.log10(wl_array.to(u.um).value), equation8(wl_array, Teff, myBlackBody))\n",
    "plt.xlabel('$\\lambda$ [$\\mu$m]')\n",
    "plt.ylabel('$\\log_{10}[erg/s/cm^2]$')"
   ]
  },
  {
   "cell_type": "markdown",
   "metadata": {},
   "source": [
    "# Niko's version (in Julia)\n",
    "\n",
    "```Julia\n",
    "function buildingblock(λ, T) # implements equation 8 in overleaf\n",
    "\n",
    "\t# λ is in cm\n",
    "\t# T is in Kelvin\n",
    "\n",
    "    # copied from overleaf\n",
    "    # • Planck’s constant,  h = 6.62607015e − 27 in cm2 · g/s\n",
    "    # • Speed of light,     c = 299792458e10 in cm/s,\n",
    "    # • Boltzmann constant, k = 1.380649e − 16 in erg/K\n",
    "    \n",
    "    local h = 6.62607015e-27\n",
    "    local c = 299792458e10\n",
    "    local k = 1.380649e-16\n",
    "\n",
    "\t# WRONG!\n",
    "    # log10(2π) + log10(h) + 2*(log10(c)) - 4*log10(λ) - ((h*c/(λ*k*T)) - 1)/log(10.0)\n",
    "\n",
    "\t# corrected version below\n",
    "\t# logexpm1 is the numerically stable version of log(exp(x) - 1)\n",
    "\t# (Python equivalent of logexpm1 is probably something like math.log1p)\n",
    "\tlog10(2π) + log10(h) + 2*(log10(c)) - 4*log10(λ) - logexpm1(h*c/(λ*k*T))/log(10.0)\n",
    "end\n",
    "```"
   ]
  },
  {
   "cell_type": "code",
   "execution_count": 37,
   "metadata": {},
   "outputs": [
    {
     "name": "stderr",
     "output_type": "stream",
     "text": [
      "/var/folders/3v/wynxxyd55nq14hvn15_n_f400000gn/T/ipykernel_26075/1080353062.py:6: RuntimeWarning: overflow encountered in exp\n",
      "  np.exp(h*c/(wl*k*Teff))\n"
     ]
    },
    {
     "data": {
      "text/plain": [
       "inf"
      ]
     },
     "execution_count": 37,
     "metadata": {},
     "output_type": "execute_result"
    }
   ],
   "source": [
    "h = 6.62607015e-27\n",
    "c = 299792458e10\n",
    "k = 1.380649e-16\n",
    "wl=0.01\n",
    "Teff = 10000.\n",
    "np.exp(h*c/(wl*k*Teff))"
   ]
  },
  {
   "cell_type": "code",
   "execution_count": 32,
   "metadata": {},
   "outputs": [],
   "source": [
    "def buildingblock(wl, Teff): # implements equation 8 in overleaf\n",
    "    h = 6.62607015e-27\n",
    "    c = 299792458e10\n",
    "    k = 1.380649e-16\n",
    "    return np.log10(2 * np.pi) + np.log10(h) + 2.*(np.log10(c)) - 4.*np.log10(wl) - np.log(np.expm1(h*c/(wl*k*Teff)))/np.log(10.0)"
   ]
  },
  {
   "cell_type": "code",
   "execution_count": 33,
   "metadata": {},
   "outputs": [
    {
     "name": "stderr",
     "output_type": "stream",
     "text": [
      "/var/folders/3v/wynxxyd55nq14hvn15_n_f400000gn/T/ipykernel_26075/221573922.py:5: RuntimeWarning: overflow encountered in expm1\n",
      "  return np.log10(2 * np.pi) + np.log10(h) + 2.*(np.log10(c)) - 4.*np.log10(wl) - np.log(np.expm1(h*c/(wl*k*Teff)))/np.log(10.0)\n"
     ]
    },
    {
     "data": {
      "text/plain": [
       "-inf"
      ]
     },
     "execution_count": 33,
     "metadata": {},
     "output_type": "execute_result"
    }
   ],
   "source": [
    "buildingblock(wl.to(u.cm).value, Teff.value)"
   ]
  },
  {
   "cell_type": "markdown",
   "metadata": {},
   "source": [
    "# SEDan version\n",
    "\n",
    "\n",
    "Below you will find the version Kai built for `SEDan`. He's working in SI. However, the important point here is that he's simply normalizing everything to have the maximum at 1. \n",
    "\n",
    "```python\n",
    "import torch\n",
    "\n",
    "H = 6.62606957e-34 # Js\n",
    "C = 299792458 # m/s\n",
    "K_B = 1.3806488e-23 # J/K\n",
    "B_NU = 5.878933*1.e10 # Hz/K\n",
    "B_LAMBDA = 2.8977685*1e-3 # m * K\n",
    "\n",
    "def planck_curve_f_lambda(temperature, wavelength):\n",
    "    \"\"\" Calculates the Planck equation for a given temperature and wavelength.\n",
    "\n",
    "    Args:\n",
    "        temperature (float32): Temperature in Kelvin. Could also be a tensor of values.\n",
    "        wavelength (float32): Wavelength in meter. Could also be a tensor of values.\n",
    "\n",
    "    Returns:\n",
    "        float32: The result of the Planck function for given temperature and wavelength.\n",
    "    \"\"\"    \n",
    "    return 2.0 * H * C**2 / wavelength**5 / (torch.exp(H * C / wavelength / K_B / temperature) - 1)\n",
    "\n",
    "def normalized_planck_Curve_f_lambda(temperature, wavelength): # wavelength in meter\n",
    "    return planck_curve_f_lambda(temperature, wavelength) / planck_curve_f_lambda(temperature, B_LAMBDA/temperature)\n",
    "\n",
    "def planck_curve_f_nu(temperature, frequency): # frequency in hz\n",
    "    return 2.0 * H * 1.e18 * (frequency * 1.e-6)**3 /  C**2 / (torch.exp(H * frequency / K_B / temperature) - 1)\n",
    "\n",
    "def norm_planck_curve_f_nu(temperature, frequency): # frequency in hz\n",
    "    return planck_curve_f_nu(temperature, frequency) / planck_curve_f_nu(temperature, B_NU*temperature)\n",
    "'''"
   ]
  },
  {
   "cell_type": "code",
   "execution_count": null,
   "metadata": {},
   "outputs": [],
   "source": []
  },
  {
   "cell_type": "code",
   "execution_count": null,
   "metadata": {},
   "outputs": [],
   "source": []
  }
 ],
 "metadata": {
  "kernelspec": {
   "display_name": "NEMESIS",
   "language": "python",
   "name": "python3"
  },
  "language_info": {
   "codemirror_mode": {
    "name": "ipython",
    "version": 3
   },
   "file_extension": ".py",
   "mimetype": "text/x-python",
   "name": "python",
   "nbconvert_exporter": "python",
   "pygments_lexer": "ipython3",
   "version": "3.10.13"
  }
 },
 "nbformat": 4,
 "nbformat_minor": 2
}
